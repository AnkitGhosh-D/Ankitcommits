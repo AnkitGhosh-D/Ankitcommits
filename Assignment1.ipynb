{
  "nbformat": 4,
  "nbformat_minor": 0,
  "metadata": {
    "colab": {
      "provenance": []
    },
    "kernelspec": {
      "name": "python3",
      "display_name": "Python 3"
    },
    "language_info": {
      "name": "python"
    }
  },
  "cells": [
    {
      "cell_type": "code",
      "execution_count": 1,
      "metadata": {
        "colab": {
          "base_uri": "https://localhost:8080/"
        },
        "id": "eBwoaavWF4Il",
        "outputId": "bfa38611-afa8-45d0-91eb-156004c475f5"
      },
      "outputs": [
        {
          "output_type": "stream",
          "name": "stdout",
          "text": [
            "Hello Python\n"
          ]
        }
      ],
      "source": [
        "#Write a Python program to print \"Hello Python\"?\n",
        "\n",
        "print(\"Hello Python\")"
      ]
    },
    {
      "cell_type": "code",
      "source": [
        "#Write a Python program to do arithmetical operations addition and division.?\n",
        "\n",
        "a = int(input(\"Enter a number: \"))\n",
        "b = int(input(\"Enter another number: \"))\n",
        "\n",
        "sum = a + b\n",
        "div = a / b\n",
        "\n",
        "print(f\"Sum is : {sum}\")\n",
        "print(f\"Division result is : {div}\")"
      ],
      "metadata": {
        "colab": {
          "base_uri": "https://localhost:8080/"
        },
        "id": "0_X-RBU2GJlN",
        "outputId": "857d8b01-5fc9-4caa-ff16-808f33cec9ba"
      },
      "execution_count": 2,
      "outputs": [
        {
          "output_type": "stream",
          "name": "stdout",
          "text": [
            "Enter a number: 10\n",
            "Enter another number: 5\n",
            "Sum is : 15\n",
            "Division result is : 2.0\n"
          ]
        }
      ]
    },
    {
      "cell_type": "code",
      "source": [
        "#Write a Python program to find the area of a triangle?\n",
        "\n",
        "base = int(input(\"Enter base: \"))\n",
        "height = int(input(\"Enter height: \"))\n",
        "\n",
        "area = 1/2 * (base * height)\n",
        "\n",
        "print(f\"area is {area}\")"
      ],
      "metadata": {
        "colab": {
          "base_uri": "https://localhost:8080/"
        },
        "id": "Md-DsIqPG5X3",
        "outputId": "997c466b-bde7-49ea-b105-ba51e13e061d"
      },
      "execution_count": 4,
      "outputs": [
        {
          "output_type": "stream",
          "name": "stdout",
          "text": [
            "Enter base: 10\n",
            "Enter height: 10\n",
            "area is 50.0\n"
          ]
        }
      ]
    },
    {
      "cell_type": "code",
      "source": [
        "#Write a Python program to swap two variables?\n",
        "a = int(input(\"Enter a number: \"))\n",
        "b = int(input(\"Enter another number: \"))\n",
        "print(a,b)\n",
        "temp = a\n",
        "a = b\n",
        "b = temp\n",
        "print(a,b)\n",
        "\n"
      ],
      "metadata": {
        "colab": {
          "base_uri": "https://localhost:8080/"
        },
        "id": "UUu1gL9ZHmdt",
        "outputId": "149f8078-3f19-45e0-ba9a-314ac75a4340"
      },
      "execution_count": 7,
      "outputs": [
        {
          "output_type": "stream",
          "name": "stdout",
          "text": [
            "Enter a number: 10\n",
            "Enter another number: 5\n",
            "10 5\n",
            "5 10\n"
          ]
        }
      ]
    },
    {
      "cell_type": "code",
      "source": [
        "#Write a Python program to generate a random number?\n",
        "\n",
        "import random\n",
        "\n",
        "print(random.randint(0,100))"
      ],
      "metadata": {
        "colab": {
          "base_uri": "https://localhost:8080/"
        },
        "id": "_Ge--W85Hxfb",
        "outputId": "bbf116eb-803c-42c6-b0b6-643277e04e8b"
      },
      "execution_count": 5,
      "outputs": [
        {
          "output_type": "stream",
          "name": "stdout",
          "text": [
            "75\n"
          ]
        }
      ]
    },
    {
      "cell_type": "markdown",
      "source": [],
      "metadata": {
        "id": "lZerUIa8F6wu"
      }
    }
  ]
}